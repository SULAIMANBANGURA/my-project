{
 "cells": [
  {
   "cell_type": "code",
   "execution_count": 1,
   "metadata": {},
   "outputs": [
    {
     "name": "stdout",
     "output_type": "stream",
     "text": [
      "26\n"
     ]
    }
   ],
   "source": [
    "MOUNT_FUJI = 3776\n",
    "THICKNESS = 0.00008\n",
    "\n",
    "def folds_exceed_height(height=1000, thickness=0.00008):\n",
    "    if height<thickness:\n",
    "        return 0\n",
    "    folded_thickness = 0\n",
    "    i = 0\n",
    "    while height > folded_thickness:\n",
    "        i += 1\n",
    "        folded_thickness=thickness*2**i\n",
    "    return i\n",
    "\n",
    "print(folds_exceed_height(MOUNT_FUJI,THICKNESS))\n"
   ]
  },
  {
   "cell_type": "code",
   "execution_count": 4,
   "metadata": {},
   "outputs": [
    {
     "name": "stdin",
     "output_type": "stream",
     "text": [
      "Enter the Distance: 4208000000000\n"
     ]
    },
    {
     "name": "stdout",
     "output_type": "stream",
     "text": [
      "The number of folds is: 56 times\n"
     ]
    }
   ],
   "source": [
    "import math\n",
    "thickness = 0.00008\n",
    "\n",
    "def num_of_fold(distance):\n",
    "    num_of_folds = math.log(distance/thickness)/math.log(2)\n",
    "    return num_of_folds\n",
    "num_of_folds = num_of_fold(distance=float(input(\"Enter the Distance:\")))\n",
    "print(\"The number of folds is:\",round(num_of_folds),\"times\")"
   ]
  },
  {
   "cell_type": "code",
   "execution_count": 5,
   "metadata": {},
   "outputs": [
    {
     "name": "stdout",
     "output_type": "stream",
     "text": [
      "The number of folds is: 56 times\n"
     ]
    }
   ],
   "source": [
    "import math\n",
    "thickness = 0.00008\n",
    "\n",
    "def num_of_fold(distance):\n",
    "    num_of_folds=math.log(distance/thickness)/math.log(2)\n",
    "    return num_of_folds\n",
    "num_of_folds=num_of_fold(distance=4208000000000)\n",
    "print(\"The number of folds is:\",round(num_of_folds),\"times\")"
   ]
  },
  {
   "cell_type": "code",
   "execution_count": null,
   "metadata": {},
   "outputs": [],
   "source": []
  },
  {
   "cell_type": "code",
   "execution_count": null,
   "metadata": {},
   "outputs": [],
   "source": [
    "Required paper length"
   ]
  },
  {
   "cell_type": "code",
   "execution_count": null,
   "metadata": {},
   "outputs": [],
   "source": [
    "import math\n",
    "\n",
    "def required_length(number_of_fold,thickness=0.00008):\n",
    "    lenght=(math.pi*thickness *(2**number_of_fold + 4)*(2**number_of_fold))\n",
    "    return int(length)\n",
    "print(required_length(folds_exceed_height(MOUNT_FUJI,THICKNESS)))"
   ]
  },
  {
   "cell_type": "code",
   "execution_count": null,
   "metadata": {},
   "outputs": [],
   "source": []
  },
  {
   "cell_type": "code",
   "execution_count": 10,
   "metadata": {},
   "outputs": [
    {
     "name": "stdout",
     "output_type": "stream",
     "text": [
      "18544689821312980\n"
     ]
    }
   ],
   "source": [
    "import math\n",
    "moon = 384400\n",
    "\n",
    "def required_length(number_of_fold,thickness=0.00008):\n",
    "    length = (math.pi*thickness *(2**number_of_fold + 4)*(2**number_of_fold))\n",
    "    return int(length)\n",
    "\n",
    "print(required_length(folds_exceed_height(moon,THICKNESS)))"
   ]
  },
  {
   "cell_type": "code",
   "execution_count": 9,
   "metadata": {},
   "outputs": [
    {
     "name": "stdout",
     "output_type": "stream",
     "text": [
      "83517858130075534037754111328256\n"
     ]
    }
   ],
   "source": [
    "alpha_centauri = 39924000000000\n",
    "\n",
    "def required_length(number_of_fold,thickness=0.00008):\n",
    "    length=(math.pi*thickness *(2**number_of_fold + 4)*(2**number_of_fold))\n",
    "    return int(length)\n",
    "\n",
    "print(required_length(folds_exceed_height(alpha_centauri,THICKNESS)))"
   ]
  },
  {
   "cell_type": "code",
   "execution_count": null,
   "metadata": {},
   "outputs": [],
   "source": []
  }
 ],
 "metadata": {
  "kernelspec": {
   "display_name": "Python 3",
   "language": "python",
   "name": "python3"
  },
  "language_info": {
   "codemirror_mode": {
    "name": "ipython",
    "version": 3
   },
   "file_extension": ".py",
   "mimetype": "text/x-python",
   "name": "python",
   "nbconvert_exporter": "python",
   "pygments_lexer": "ipython3",
   "version": "3.8.5"
  }
 },
 "nbformat": 4,
 "nbformat_minor": 4
}
