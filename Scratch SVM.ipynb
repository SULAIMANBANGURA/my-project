{
 "cells": [
  {
   "cell_type": "code",
   "execution_count": 1,
   "metadata": {},
   "outputs": [],
   "source": [
    "import pandas as pd \n",
    "import numpy as np \n",
    "from sklearn.model_selection import train_test_split\n",
    "from sklearn.metrics import accuracy_score   \n",
    "from sklearn.metrics import precision_score\n",
    "from sklearn.metrics import confusion_matrix\n",
    "from sklearn.metrics import recall_score\n",
    "from sklearn.datasets import load_iris\n",
    "from sklearn.preprocessing import StandardScaler\n",
    "import matplotlib.pyplot as plt\n",
    "from matplotlib.colors import ListedColormap\n",
    "import matplotlib.patches as mpatches\n",
    "from numpy.random import *\n",
    "import random\n",
    "from sklearn.svm import SVC"
   ]
  },
  {
   "cell_type": "code",
   "execution_count": 2,
   "metadata": {},
   "outputs": [],
   "source": [
    "class ScratchSVMClassifier():\n",
    "    \n",
    "    def __init__(self, num_iter, lr, Threshold):\n",
    "        self.iter = num_iter\n",
    "        self.lr = lr\n",
    "        self.Threshold = Threshold\n",
    "        \n",
    "    def _SVC_hypothesis(self, x, y):\n",
    "        y = y.reshape(-1,1)\n",
    "        for i in range (y.shape[0]):\n",
    "            temp = 0\n",
    "            for j in range(len(y)):\n",
    "                temp += self.lamda_[j] * y[i] * y[j] * np.dot(x[i].T, x[j])\n",
    "            self.lamda_[i] += self.lr * (1 - temp)\n",
    "            self.lamda_[self.lamda_ <= 0] = 0\n",
    "        return self.lamda_\n",
    "    def fit(self, x, y, x_val=None, y_val=None):\n",
    "        np.random.seed(0)\n",
    "        self.lamda_ = np.random.rand(x.shape[0], 1) * 0.03\n",
    "        \n",
    "        for i in range(self.iter):\n",
    "            self._SVC_hypothesis(x, y)\n",
    "            \n",
    "        self.index_l = []\n",
    "        for j, i in enumerate(self.lamda_):\n",
    "            if i > self.Threshold:\n",
    "                self.index_l .append(j)\n",
    "            self.lamda_sv = self.lamda_[self.index_l]\n",
    "            self.x_sv = x[self.index_l]\n",
    "            self.y_sv = y[self.index_l]\n",
    "            \n",
    "    def predict(self, x):\n",
    "        self.y_pred = 0\n",
    "        for i in range(self.lamda_sv.shape[0]):\n",
    "            self.y_pred += self.lamda_sv[i] * self.y_sv[i] * np.dot(x, self.x_sv[i].T)\n",
    "        self.y_pred = np.where(self.y_pred > 0, 1, -1)\n",
    "        return self.y_pred"
   ]
  },
  {
   "cell_type": "code",
   "execution_count": 3,
   "metadata": {},
   "outputs": [],
   "source": [
    "iris = load_iris()\n",
    "x = iris.data[50:,:]\n",
    "y = iris.target[50:]\n",
    "x = x[:,[2,3]]\n",
    "y[y==2] = -1"
   ]
  },
  {
   "cell_type": "code",
   "execution_count": 4,
   "metadata": {},
   "outputs": [],
   "source": [
    "(x_train, x_test, y_train, y_test) = train_test_split(x, y, test_size=0.3, random_state=0)"
   ]
  },
  {
   "cell_type": "code",
   "execution_count": 5,
   "metadata": {},
   "outputs": [],
   "source": [
    "scaler = StandardScaler()\n",
    "scaler.fit(x_train)\n",
    "x_train1 = scaler.transform(x_train)\n",
    "x_test1 = scaler.transform(x_test)"
   ]
  },
  {
   "cell_type": "code",
   "execution_count": null,
   "metadata": {},
   "outputs": [],
   "source": [
    "SV = ScratchSVMClassifier(num_iter=10000, lr=0.01, Threshold=0.038)\n",
    "SV.fit(x_train1,y_train)\n",
    "y_pred = SV.predict(x_test1)"
   ]
  },
  {
   "cell_type": "code",
   "execution_count": 7,
   "metadata": {},
   "outputs": [
    {
     "name": "stdout",
     "output_type": "stream",
     "text": [
      "1.0\n",
      "0.9333333333333333\n",
      "[[15  0]\n",
      " [ 1 14]]\n"
     ]
    }
   ],
   "source": [
    "print(\"{}\".format(precision_score(y_test,y_pred)))\n",
    "print(\"{}\".format(recall_score(y_test,y_pred)))\n",
    "print(confusion_matrix(y_test, y_pred))"
   ]
  },
  {
   "cell_type": "code",
   "execution_count": 7,
   "metadata": {},
   "outputs": [],
   "source": [
    "def decision_region(x, y, model, step=0.01, title='decision region', xlabel='xlabel', ylabel='ylabel', target_names=['versicolor','virginica']):\n",
    "    \n",
    "    #setting\n",
    "    scatter_color = ['red', 'blue']\n",
    "    contourf_color = ['pink', 'skyblue']\n",
    "    n_class = 2\n",
    "    \n",
    "    # pred\n",
    "    mesh_f0, mesh_f1 = np.meshgrid(np.min(x[:,0])-0.5, np.max(x[:,0])+0.5, step), np.arange(np.min(x[:,1])-0.5, np.max(x[:,1])+0.5, step)\n",
    "    mesh = np.c_[np.ravel(mesh_f0),np.ravel(mesh_f1)]\n",
    "    y_pred = model.predict(mesh).reshape(mesh_f0.shape)\n",
    "    \n",
    "    #plot\n",
    "    plt.title(title)\n",
    "    plt.xlabel(xlabel)\n",
    "    plt.ylabel(ylabel)\n",
    "    plt.contourf(mesh_f0, mesh_f1, y_pred, n_class-1, cmap=ListedColormap(contourf_color))\n",
    "    plt.contour(mesh_f0, mesh_f1, y_pred, n_class-1, colors='y', linewidths=3, alpha=0.5)\n",
    "    for i, target in enumerate(set(y)):\n",
    "        plt.scatter(x[y==target][:, 0], x[y==target][:, 1], s=80, color=scatter_color[i], label=target_names[i], marker='o')\n",
    "    if model==SV:\n",
    "        plt.scatter(SV.x_sv[:, 0], SV.x_sv[:, 1], s=80, color='yellow', marker='o')\n",
    "    else:\n",
    "        plt.scatter(x_train[svc.support_, 0], x_train[svc.support_, 1], s=80, color='yellow', marker='o')\n",
    "    patches = [mpatches.Patch(color=scatter_color[i], label=target_names[i]) for i in range(n_class)]\n",
    "    plt.legend(handles=patches)\n",
    "    plt.legend()\n",
    "    plt.show();"
   ]
  },
  {
   "cell_type": "code",
   "execution_count": 8,
   "metadata": {},
   "outputs": [],
   "source": [
    "np.random.seed(seed=0)\n",
    "n_samples = 500\n",
    "f0 = [-1, 2]\n",
    "f1 = [2, -1]\n",
    "cov = [[1.0,0.8], [0.8, 1.0]]\n",
    "\n",
    "f0 = np.random.multivariate_normal(f0, cov, int(n_samples/2))\n",
    "f1 = np.random.multivariate_normal(f1, cov, int(n_samples/2))\n",
    "\n",
    "x = np.concatenate((f0, f1))\n",
    "y = np.concatenate((np.ones((int(n_samples/2))), np.ones((int(n_samples/2))) *(-1))).astype(np.int)\n",
    "\n",
    "random_index = np.random.permutation(np.arange(n_samples))\n",
    "x = x[random_index]\n",
    "y = y[random_index]\n",
    "x_train, x_test, y_train, y_test = train_test_split(x, y, random_state=42, stratify=y)"
   ]
  },
  {
   "cell_type": "code",
   "execution_count": 10,
   "metadata": {},
   "outputs": [],
   "source": [
    "svc = SVC(random_state=0, C=1e10, kernel='linear')\n",
    "svc.fit(x_train, y_train)\n",
    "svc_pred = svc.predict(x_test)"
   ]
  },
  {
   "cell_type": "code",
   "execution_count": 13,
   "metadata": {},
   "outputs": [
    {
     "data": {
      "text/plain": [
       "array([ 1, -1,  1, -1, -1, -1,  1,  1, -1, -1, -1, -1, -1,  1,  1,  1,  1,\n",
       "        1, -1,  1,  1, -1,  1, -1,  1,  1,  1, -1, -1,  1])"
      ]
     },
     "execution_count": 13,
     "metadata": {},
     "output_type": "execute_result"
    }
   ],
   "source": [
    "svc_pred"
   ]
  },
  {
   "cell_type": "code",
   "execution_count": null,
   "metadata": {},
   "outputs": [],
   "source": []
  }
 ],
 "metadata": {
  "kernelspec": {
   "display_name": "Python 3",
   "language": "python",
   "name": "python3"
  },
  "language_info": {
   "codemirror_mode": {
    "name": "ipython",
    "version": 3
   },
   "file_extension": ".py",
   "mimetype": "text/x-python",
   "name": "python",
   "nbconvert_exporter": "python",
   "pygments_lexer": "ipython3",
   "version": "3.8.5"
  }
 },
 "nbformat": 4,
 "nbformat_minor": 4
}
